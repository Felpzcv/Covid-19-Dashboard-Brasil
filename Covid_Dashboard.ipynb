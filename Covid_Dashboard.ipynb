{
  "nbformat": 4,
  "nbformat_minor": 0,
  "metadata": {
    "colab": {
      "provenance": []
    },
    "kernelspec": {
      "name": "python3",
      "display_name": "Python 3"
    }
  },
  "cells": [
    {
      "cell_type": "markdown",
      "metadata": {
        "id": "QRcqbpLpFK5o"
      },
      "source": [
        "# **COVID Dashboard**"
      ]
    },
    {
      "cell_type": "markdown",
      "metadata": {
        "id": "6-CvdKwqFPiW"
      },
      "source": [
        "# 1\\. Contexto"
      ]
    },
    {
      "cell_type": "markdown",
      "source": [
        "\n",
        "\n",
        "*   **Dashboard;**\n",
        "*   Google Data Studio: [GoogleDataStudio](https://lookerstudio.google.com/u/0/reporting/ff37666f-dc7e-4e82-abcd-5a3795cb7d3e/page/IjMfD)\n",
        "*   **Fontes**;\n",
        "*   Casos pela universidade John Hopkins ([link](https://github.com/CSSEGISandData/COVID-19/tree/master/csse_covid_19_data/csse_covid_19_daily_reports));\n",
        "*   Vacinação pela universidade de Oxford ([link](https://covid.ourworldindata.org/data/owid-covid-data.csv))\n",
        "\n",
        "\n",
        "\n",
        "\n"
      ],
      "metadata": {
        "id": "K5jOsrBB-3wH"
      }
    },
    {
      "cell_type": "markdown",
      "source": [
        "#1.2. Dados\n"
      ],
      "metadata": {
        "id": "zqLz0D7WAj8_"
      }
    },
    {
      "cell_type": "markdown",
      "source": [
        "Os dados sobre **casos da COVID-19** são compilados pelo centro de ciência de sistemas e engenharia da universidade americana **John Hopkins** ([link](https://www.jhu.edu)). Os dados são atualizados diariamente deste janeiro de 2020 com uma granularidade temporal de dias e geográfica de regiões de países (estados, condados, etc.). O website do projeto pode ser acessado neste [link](https://systems.jhu.edu/research/public-health/ncov/) enquanto os dados, neste [link](https://github.com/CSSEGISandData/COVID-19/tree/master/csse_covid_19_data/csse_covid_19_daily_reports). Abaixo estão descritos os dados derivados do seu processamento."
      ],
      "metadata": {
        "id": "a9qStEy7A2KX"
      }
    },
    {
      "cell_type": "markdown",
      "source": [
        " - **date**: data de referência;\n",
        " - **state**: estado;\n",
        " - **country**: país;\n",
        " - **population**: população estimada;\n",
        " - **confirmed**: número acumulado de infectados;\n",
        " - **confirmed_1d**: número diário de infectados;\n",
        " - **confirmed_moving_avg_7d**: média móvel de 7 dias do número diário de infectados;\n",
        " - **confirmed_moving_avg_7d_rate_14d**: média móvel de 7 dias dividido pela média móvel de 7 dias de 14 dias atrás;\n",
        " - **deaths**: número acumulado de mortos;\n",
        " - **deaths_1d**: número diário de mortos;\n",
        " - **deaths_moving_avg_7d**: média móvel de 7 dias do número diário de mortos;\n",
        " - **deaths_moving_avg_7d**: média móvel de 7 dias dividido pela média móvel de 7 dias de 14 dias atrás;\n",
        " - **month**: mês de referência;\n",
        " - **year**: ano de referência."
      ],
      "metadata": {
        "id": "guuVACMqBLQg"
      }
    },
    {
      "cell_type": "markdown",
      "source": [
        "Os dados sobre **vacinação da COVID-19** são compilados pelo projeto Nosso Mundo em Dados (*Our World in Data* ou OWID) da universidade britânica de **Oxford** ([link](https://www.ox.ac.uk)). Os dados são **atualizados diariamente** deste janeiro de 2020 com uma **granularidade temporal de dias e geográfica de países**. O website do projeto pode ser acessado neste [link](https://ourworldindata.org) enquanto os dados, neste [link](https://covid.ourworldindata.org/data/owid-covid-data.csv). Abaixo estão descritos os dados derivados do seu processamento."
      ],
      "metadata": {
        "id": "7bO4hUYjBNwt"
      }
    },
    {
      "cell_type": "markdown",
      "source": [
        " - **date**: data de referência;\n",
        " - **country**: país;\n",
        " - **population**: população estimada;\n",
        " - **total**: número acumulado de doses administradas;\n",
        " - **one_shot**: número acumulado de pessoas com uma dose;\n",
        " - **one_shot_perc**: número acumulado relativo de pessoas com uma dose;\n",
        " - **two_shots**: número acumulado de pessoas com duas doses;\n",
        " - **two_shot_perc**: número acumulado relativo de pessoas com duas doses;\n",
        " - **three_shots**: número acumulado de pessoas com três doses;\n",
        " - **three_shot_perc**: número acumulado relativo de pessoas com três doses;\n",
        " - **month**: mês de referência;\n",
        " - **year**: ano de referência."
      ],
      "metadata": {
        "id": "ip1Q6aAXBd_e"
      }
    },
    {
      "cell_type": "markdown",
      "metadata": {
        "id": "QxukLHaqFnkU"
      },
      "source": [
        "## 2\\. Pacotes e bibliotecas"
      ]
    },
    {
      "cell_type": "code",
      "metadata": {
        "id": "VXUEW0VrF7XW"
      },
      "source": [
        "# Pacotes utilizados para processar os dados brutos, prezando adequar os dados para um painel de exploração interativa de dados.\n",
        "import requests\n",
        "import csv\n",
        "import math\n",
        "import numpy as np\n",
        "import pandas as pd\n",
        "from datetime import datetime, timedelta\n",
        "from typing import Iterator\n",
        "from pandas._libs.tslibs import period\n"
      ],
      "execution_count": null,
      "outputs": []
    },
    {
      "cell_type": "markdown",
      "metadata": {
        "id": "irQxHW1zGkdZ"
      },
      "source": [
        "## 3\\. Extração"
      ]
    },
    {
      "cell_type": "markdown",
      "source": [
        "Fazendo a extração dos dados de casos e de vacinação. Já estou formatando os dados de casos para as datas que irei utilizar."
      ],
      "metadata": {
        "id": "-ND1XusezjlO"
      }
    },
    {
      "cell_type": "code",
      "metadata": {
        "id": "lxLj8e0GHAnr"
      },
      "source": [
        "# código de extração dos dados de casos:\n",
        "url = 'https://raw.githubusercontent.com/CSSEGISandData/COVID-19/master/csse_covid_19_data/csse_covid_19_daily_reports/01-12-2021.csv'\n",
        "casos_1 = 'casos_1.csv'\n",
        "response = requests.get(url)\n",
        "with open(casos_1, 'w') as file:\n",
        "    file.write(response.text)\n",
        "\n",
        "casos = pd.read_csv(casos_1, sep=',')\n",
        "\n",
        "# Função para criar um range de datas:\n",
        "def data_range(data_inicial: datetime, data_final: datetime) -> Iterator[datetime]:\n",
        "  data_range_dias: int = (data_final - data_inicial).days\n",
        "  for lag in range(data_range_dias):\n",
        "    yield data_inicial + timedelta(lag)\n",
        "\n",
        "data_inicial = datetime(2021, 1, 1)\n",
        "data_final = datetime(2021, 12, 31)\n",
        "\n",
        "casos = None\n",
        "casos_vazio = True\n",
        "\n",
        "# Loop para coletar dados de diferentes datas:\n",
        "for data in data_range(data_inicial=data_inicial, data_final=data_final):\n",
        "  data_str = data.strftime('%m-%d-%Y')\n",
        "  data_url = f'https://raw.githubusercontent.com/CSSEGISandData/COVID-19/master/csse_covid_19_data/csse_covid_19_daily_reports/{data_str}.csv'\n",
        "\n",
        "  case = pd.read_csv(data_url, sep=',')\n",
        "\n",
        "  case = case.drop(['FIPS', 'Admin2', 'Last_Update', 'Lat', 'Long_', 'Recovered', 'Active', 'Combined_Key', 'Case_Fatality_Ratio'], axis=1)\n",
        "  case = case.query('Country_Region == \"Brazil\"').reset_index(drop=True)\n",
        "  case['Date'] = pd.to_datetime(data.strftime('%Y-%m-%d'))\n",
        "\n",
        "  if casos_vazio:\n",
        "    casos = case\n",
        "    casos_vazio = False\n",
        "  else:\n",
        "    casos = casos.append(case, ignore_index=True)\n"
      ],
      "execution_count": null,
      "outputs": []
    },
    {
      "cell_type": "code",
      "source": [
        "# Observando o estado do Rio Grande do Sul, a fim de saber como as colunas se comportam:\n",
        "casos.query('Province_State == \"Rio Grande do Sul\"').head()"
      ],
      "metadata": {
        "id": "DFfFgGv1NrZI"
      },
      "execution_count": null,
      "outputs": []
    },
    {
      "cell_type": "code",
      "source": [
        "# - Wrangling da estrutura casos:\n",
        "casos.head()"
      ],
      "metadata": {
        "id": "izhqZ2BwNpFR"
      },
      "execution_count": null,
      "outputs": []
    },
    {
      "cell_type": "code",
      "source": [
        "casos.shape"
      ],
      "metadata": {
        "id": "nW0D7dxoN8dZ"
      },
      "execution_count": null,
      "outputs": []
    },
    {
      "cell_type": "code",
      "source": [
        "casos.info()"
      ],
      "metadata": {
        "id": "cc_AuLfjN8bX"
      },
      "execution_count": null,
      "outputs": []
    },
    {
      "cell_type": "code",
      "source": [
        "# código de extração dos dados de vacinação;\n",
        "url = 'https://covid.ourworldindata.org/data/owid-covid-data.csv'\n",
        "vacinas_1 = 'vacinas.csv'\n",
        "response = requests.get(url)\n",
        "\n",
        "with open(vacinas_1, 'w') as file:\n",
        "    file.write(response.text)\n",
        "\n",
        "\n",
        "vacinas = pd.read_csv(vacinas_1, sep=',', parse_dates=[3], infer_datetime_format=True)"
      ],
      "metadata": {
        "id": "fyoba_UFpe8r"
      },
      "execution_count": null,
      "outputs": []
    },
    {
      "cell_type": "code",
      "source": [
        "# - Wrangling da estrutura vacinas:\n",
        "vacinas.head()"
      ],
      "metadata": {
        "id": "KTwDB2_MqAwk"
      },
      "execution_count": null,
      "outputs": []
    },
    {
      "cell_type": "code",
      "source": [
        "vacinas.shape"
      ],
      "metadata": {
        "id": "4oI84OSwqPVO"
      },
      "execution_count": null,
      "outputs": []
    },
    {
      "cell_type": "code",
      "source": [
        "vacinas.info()"
      ],
      "metadata": {
        "id": "dm0HB_9cqPS9"
      },
      "execution_count": null,
      "outputs": []
    },
    {
      "cell_type": "markdown",
      "metadata": {
        "id": "98hexQTyJS9I"
      },
      "source": [
        "## 4\\. Transformação"
      ]
    },
    {
      "cell_type": "markdown",
      "source": [
        "Transformando os dados, passando-os para português, corrigindo a acentuação dos estados brasileiros, formatando as datas para uso no dashboard. Além disso, farei um cálculo da população total e analisarei a tendência de casos e mortes. Confirmarei a precisão dos dados para uso no dashboard e seguirei os mesmos passos para os dados de vacinação, organizando-os para uma melhor compreensão e verificando se estão conforme o esperado."
      ],
      "metadata": {
        "id": "onfAVQZ50JqW"
      }
    },
    {
      "cell_type": "code",
      "source": [
        "# Renomeando os dados para português:\n",
        "casos = casos.rename(\n",
        "    columns={\n",
        "        'Province_State': 'estado',\n",
        "        'Country_Region': 'país',\n",
        "        'Confirmed': 'confirmação',\n",
        "        'Incident_Rate': 'taxa_de_incidentes',\n",
        "        'Deaths': 'mortes',\n",
        "        'Date': 'data'\n",
        "    }\n",
        ")\n",
        "for col in casos.columns:\n",
        "  casos = casos.rename(columns={col: col.lower()})\n"
      ],
      "metadata": {
        "id": "-5AjIxxgN8ZA"
      },
      "execution_count": null,
      "outputs": []
    },
    {
      "cell_type": "code",
      "source": [
        "estados_mapa = {\n",
        "    'Amapa': 'Amapá',\n",
        "    'Ceara': 'Ceará',\n",
        "    'Espirito Santo': 'Espírito Santo',\n",
        "    'Goias': 'Goiás',\n",
        "    'Maranhao': 'Maranhão',\n",
        "    'Para': 'Pará',\n",
        "    'Paraiba': 'Paraíba',\n",
        "    'Parana': 'Paraná',\n",
        "    'Piaui': 'Piauí',\n",
        "    'Rondonia': 'Rondônia',\n",
        "    'Sao Paulo': 'São Paulo'\n",
        "}\n",
        "\n",
        "casos['estado'] = casos['estado'].apply(lambda estado: estados_mapa.get(estado) if estado in estados_mapa.keys() else estado)\n"
      ],
      "metadata": {
        "id": "LbijB6upTGuC"
      },
      "execution_count": null,
      "outputs": []
    },
    {
      "cell_type": "code",
      "source": [
        "# Tratando o dado para informações sobre mês e ano\n",
        "casos['mês'] = casos['data'].apply(lambda data: data.strftime('%Y-%m'))\n",
        "casos['ano'] = casos['data'].apply(lambda data: data.strftime('%Y'))\n"
      ],
      "metadata": {
        "id": "Em1twF5BWmMt"
      },
      "execution_count": null,
      "outputs": []
    },
    {
      "cell_type": "code",
      "source": [
        "# Adicionando coluna de população e removendo coluna desnecessárias:\n",
        "casos['população'] = round(100000 * (casos['confirmação'] / casos['taxa_de_incidentes']))\n",
        "casos = casos.drop('taxa_de_incidentes', axis=1)\n"
      ],
      "metadata": {
        "id": "CZbzidOWWmI0"
      },
      "execution_count": null,
      "outputs": []
    },
    {
      "cell_type": "code",
      "source": [
        "casos_ = None\n",
        "casos_vazio = True\n",
        "\n",
        "# Definindo a tendência para usar nas bases de casos e mortes:\n",
        "def get_trend(rate: float) -> str:\n",
        "  if np.isnan(rate):\n",
        "    return np.NaN\n",
        "\n",
        "  if rate < 0.85:\n",
        "    status = 'descendente'\n",
        "  elif rate > 1.15:\n",
        "    status = 'ascendente'\n",
        "  else:\n",
        "    status = 'estável'\n",
        "\n",
        "  return status\n",
        "\n",
        "# Loop para análise por estado:\n",
        "for estado in casos['estado'].drop_duplicates():\n",
        "  casos_por_estado = casos.query(f'estado == \"{estado}\"').reset_index(drop=True)\n",
        "  casos_por_estado = casos_por_estado.sort_values(by=['data'])\n",
        "\n",
        "  casos_por_estado['confirmação_1d'] = casos_por_estado['confirmação'].diff(periods=1)\n",
        "  casos_por_estado['confirmação_média_móvel_7d'] = np.ceil(casos_por_estado['confirmação_1d'].rolling(window=7).mean())\n",
        "  casos_por_estado['confirmação_média_móvel_7d_relação_14d'] = casos_por_estado['confirmação_média_móvel_7d']/casos_por_estado['confirmação_média_móvel_7d'].shift(periods=14)\n",
        "  casos_por_estado['tendência_confirmada'] = casos_por_estado['confirmação_média_móvel_7d_relação_14d'].apply(get_trend)\n",
        "\n",
        "  casos_por_estado['mortes_1d'] = casos_por_estado['mortes'].diff(periods=1)\n",
        "  casos_por_estado['mortes_média_móvel_7d'] = np.ceil(casos_por_estado['mortes_1d'].rolling(window=7).mean())\n",
        "  casos_por_estado['mortes_média_móvel_7d_relação_14d'] = casos_por_estado['mortes_média_móvel_7d']/casos_por_estado['mortes_média_móvel_7d'].shift(periods=14)\n",
        "  casos_por_estado['tendência_mortes'] = casos_por_estado['mortes_média_móvel_7d_relação_14d'].apply(get_trend)\n",
        "\n",
        "  if casos_vazio:\n",
        "    casos_ = casos_por_estado\n",
        "    casos_vazio = False\n",
        "  else:\n",
        "    casos_ = casos_.append(casos_por_estado, ignore_index=True)\n",
        "\n",
        "casos = casos_\n",
        "casos_ = None\n"
      ],
      "metadata": {
        "id": "WvbyavYuWmEM"
      },
      "execution_count": null,
      "outputs": []
    },
    {
      "cell_type": "code",
      "source": [
        "# Transformando os dados para o tipo que desejo:\n",
        "casos['população'] = casos['população'].astype('Int64')\n",
        "casos['confirmação_1d'] = casos['confirmação_1d'].astype('Int64')\n",
        "casos['confirmação_média_móvel_7d'] = casos['confirmação_média_móvel_7d'].astype('Int64')\n",
        "casos['mortes_1d'] = casos['mortes_1d'].astype('Int64')\n",
        "casos['mortes_média_móvel_7d'] = casos['mortes_média_móvel_7d'].astype('Int64')\n"
      ],
      "metadata": {
        "id": "2mVrZxwWlYmE"
      },
      "execution_count": null,
      "outputs": []
    },
    {
      "cell_type": "code",
      "source": [
        "# Organizando os dados para melhor visualização:\n",
        "casos = casos[['data', 'país', 'estado', 'população', 'confirmação', 'confirmação_1d', 'confirmação_média_móvel_7d', 'confirmação_média_móvel_7d_relação_14d', 'tendência_confirmada', 'mortes', 'mortes_1d', 'mortes_média_móvel_7d', 'mortes_média_móvel_7d_relação_14d', 'tendência_mortes', 'mês', 'ano']]\n"
      ],
      "metadata": {
        "id": "-tV7dbGol6gq"
      },
      "execution_count": null,
      "outputs": []
    },
    {
      "cell_type": "code",
      "source": [
        "# Observando o dado para ter melhor entendimento de como ficaram:\n",
        "casos.head(25)"
      ],
      "metadata": {
        "id": "oyAfiKnQoVET"
      },
      "execution_count": null,
      "outputs": []
    },
    {
      "cell_type": "code",
      "source": [
        "casos.shape"
      ],
      "metadata": {
        "id": "aSYqjk5TjWWb"
      },
      "execution_count": null,
      "outputs": []
    },
    {
      "cell_type": "code",
      "source": [
        "casos.info()"
      ],
      "metadata": {
        "id": "WkyrTkNMjW4T"
      },
      "execution_count": null,
      "outputs": []
    },
    {
      "cell_type": "code",
      "source": [
        "# Filtrando o dado pelo País e selecionando colunas:\n",
        "\n",
        "vacinas = vacinas.query('location == \"Brazil\"').reset_index(drop=True)\n",
        "vacinas = vacinas[['location', 'population', 'total_vaccinations', 'people_vaccinated', 'people_fully_vaccinated', 'total_boosters', 'date']]\n"
      ],
      "metadata": {
        "id": "stfekFTkqPYq"
      },
      "execution_count": null,
      "outputs": []
    },
    {
      "cell_type": "code",
      "source": [
        "# Preenchendo valores nulos e filtrando o dado pelo ano proposto:\n",
        "vacinas = vacinas.fillna(method='ffill')"
      ],
      "metadata": {
        "id": "S8C6Phy7q5_M"
      },
      "execution_count": null,
      "outputs": []
    },
    {
      "cell_type": "code",
      "source": [
        "vacinas = vacinas[(vacinas['date'] >= '2021-01-01') & (vacinas['date'] <= '2021-12-31')].reset_index(drop=True)\n"
      ],
      "metadata": {
        "id": "zELKW_sqq59G"
      },
      "execution_count": null,
      "outputs": []
    },
    {
      "cell_type": "code",
      "source": [
        "# Renomeando os dados para português:\n",
        "vacinas = vacinas.rename(\n",
        "    columns={\n",
        "        'location' : 'país',\n",
        "        'total_vaccinations': 'total',\n",
        "        'people_vaccinated': 'primeira_dose',\n",
        "        'people_fully_vaccinated': 'segunda_dose',\n",
        "        'total_boosters': 'terceira_dose',\n",
        "        'date': 'data',\n",
        "        'population': 'população'\n",
        "    }\n",
        ")\n"
      ],
      "metadata": {
        "id": "PX-8anb2q56-"
      },
      "execution_count": null,
      "outputs": []
    },
    {
      "cell_type": "code",
      "source": [
        "# Tratando o dado para informações sobre mês e ano, adicionando um cálculo sobre porcentagens:\n",
        "vacinas['mês'] = vacinas['data'].apply(lambda data: data.strftime('%Y-%m'))\n",
        "vacinas['ano'] = vacinas['data'].apply(lambda data: data.strftime('%Y'))\n"
      ],
      "metadata": {
        "id": "5dAIUTdfsK-l"
      },
      "execution_count": null,
      "outputs": []
    },
    {
      "cell_type": "code",
      "source": [
        "vacinas['porcentagem_primeira_dose'] = round(vacinas['primeira_dose'] / vacinas['população'], 4)\n",
        "vacinas['porcentagem_segunda_dose'] = round(vacinas['segunda_dose'] / vacinas['população'], 4)\n",
        "vacinas['porcentagem_terceira_dose'] = round(vacinas['terceira_dose'] / vacinas['população'], 4)\n"
      ],
      "metadata": {
        "id": "wR4Ci8gUsK6d"
      },
      "execution_count": null,
      "outputs": []
    },
    {
      "cell_type": "code",
      "source": [
        "# Transformando os dados para o tipo que desejo:\n",
        "vacinas['população'] = vacinas['população'].astype('Int64')\n",
        "vacinas['total'] = vacinas['total'].astype('Int64')\n",
        "vacinas['primeira_dose'] = vacinas['primeira_dose'].astype('Int64')\n",
        "vacinas['segunda_dose'] = vacinas['segunda_dose'].astype('Int64')\n",
        "vacinas['terceira_dose'] = vacinas['terceira_dose'].astype('Int64')\n"
      ],
      "metadata": {
        "id": "Bz7qIzRutgm9"
      },
      "execution_count": null,
      "outputs": []
    },
    {
      "cell_type": "code",
      "source": [
        "# Organizando os dados para melhor visualização:\n",
        "vacinas = vacinas[['data', 'país', 'população', 'total', 'primeira_dose', 'porcentagem_primeira_dose', 'segunda_dose', 'porcentagem_segunda_dose', 'terceira_dose', 'porcentagem_terceira_dose', 'mês', 'ano']]\n"
      ],
      "metadata": {
        "id": "mDPqi4hVuLYG"
      },
      "execution_count": null,
      "outputs": []
    },
    {
      "cell_type": "code",
      "source": [
        "# Observando o dado para ter melhor entendimento de como ficaram:\n",
        "vacinas.head()"
      ],
      "metadata": {
        "id": "MFu0PSxiu3-E"
      },
      "execution_count": null,
      "outputs": []
    },
    {
      "cell_type": "code",
      "source": [
        "vacinas.tail()"
      ],
      "metadata": {
        "id": "XezA5vI_Dngj"
      },
      "execution_count": null,
      "outputs": []
    },
    {
      "cell_type": "code",
      "source": [
        "vacinas.shape"
      ],
      "metadata": {
        "id": "Su5jXjtFu7xe"
      },
      "execution_count": null,
      "outputs": []
    },
    {
      "cell_type": "code",
      "source": [
        "vacinas.info()"
      ],
      "metadata": {
        "id": "1NrATRm-u6as"
      },
      "execution_count": null,
      "outputs": []
    },
    {
      "cell_type": "markdown",
      "metadata": {
        "id": "KSgjP--1JS9R"
      },
      "source": [
        "## 5\\. Carregamento"
      ]
    },
    {
      "cell_type": "markdown",
      "source": [
        "Criando os arquivos \"casos-covid.csv\" e \"vacinas-covid.csv\" para serem usados como dados do dashboard."
      ],
      "metadata": {
        "id": "bh_LTJyk16dm"
      }
    },
    {
      "cell_type": "code",
      "source": [
        "# Salvando os dados processados de casos em formato CSV:\n",
        "casos.to_csv('./casos-covid.csv', sep=',', index=False)"
      ],
      "metadata": {
        "id": "VYm1fHHGqDRc"
      },
      "execution_count": null,
      "outputs": []
    },
    {
      "cell_type": "code",
      "source": [
        "# Salvando os dados processados de vacinação em formato CSV:\n",
        "vacinas.to_csv('./vacinas-covid.csv', sep=',', index=False)"
      ],
      "metadata": {
        "id": "FgbGJS6hHH4X"
      },
      "execution_count": null,
      "outputs": []
    },
    {
      "cell_type": "markdown",
      "source": [
        "## 6\\. Storytelling"
      ],
      "metadata": {
        "id": "ZT3Bunz4B4TW"
      }
    },
    {
      "cell_type": "markdown",
      "source": [
        "Em 2021, o Brasil enfrentou uma crise devido à pandemia de COVID-19. A vacinação começou lentamente no final de janeiro, mas o ritmo era insuficiente para conter a propagação do vírus. A situação continuou crítica ao longo dos meses seguintes, com um aumento constante no número de casos e mortes, apesar do início da administração da segunda dose da vacina em fevereiro. A propagação do vírus se acelerou em março, evidenciando a urgência de acelerar o programa de vacinação. Foi somente em junho que o ritmo da vacinação começou a se intensificar, e a partir de julho, finalmente começamos a observar uma redução nos casos e mortes, trazendo um sinal de alívio e esperança para o país."
      ],
      "metadata": {
        "id": "oAuR5UwPCG6v"
      }
    }
  ]
}